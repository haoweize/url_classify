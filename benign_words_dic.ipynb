{
  "nbformat": 4,
  "nbformat_minor": 0,
  "metadata": {
    "colab": {
      "provenance": []
    },
    "kernelspec": {
      "name": "python3",
      "display_name": "Python 3"
    },
    "language_info": {
      "name": "python"
    }
  },
  "cells": [
    {
      "cell_type": "code",
      "source": [
        "from google.colab import drive\n",
        "drive.mount('/content/drive')"
      ],
      "metadata": {
        "colab": {
          "base_uri": "https://localhost:8080/"
        },
        "id": "zToEDBZifSd7",
        "outputId": "216a88e3-24cd-4938-d684-b9feab8d05ab"
      },
      "execution_count": 1,
      "outputs": [
        {
          "output_type": "stream",
          "name": "stdout",
          "text": [
            "Mounted at /content/drive\n"
          ]
        }
      ]
    },
    {
      "cell_type": "code",
      "source": [
        "!nvidia-smi"
      ],
      "metadata": {
        "colab": {
          "base_uri": "https://localhost:8080/"
        },
        "id": "Oyw_1VWWh17W",
        "outputId": "3d9600c1-67a5-4cb2-93b3-feca1815ed89"
      },
      "execution_count": 2,
      "outputs": [
        {
          "output_type": "stream",
          "name": "stdout",
          "text": [
            "NVIDIA-SMI has failed because it couldn't communicate with the NVIDIA driver. Make sure that the latest NVIDIA driver is installed and running.\n",
            "\n"
          ]
        }
      ]
    },
    {
      "cell_type": "code",
      "source": [
        "!ls\n",
        "import pandas as pd\n",
        "# 读取训练集\n",
        "df = pd.read_csv('dataset/file_final_set.csv')\n",
        "df.head()"
      ],
      "metadata": {
        "colab": {
          "base_uri": "https://localhost:8080/",
          "height": 393
        },
        "id": "cobyKGzfmTSz",
        "outputId": "c5638a2d-0fcb-4c50-879c-cf637c4ec717"
      },
      "execution_count": 5,
      "outputs": [
        {
          "output_type": "stream",
          "name": "stdout",
          "text": [
            "dataset  drive\tsample_data\n"
          ]
        },
        {
          "output_type": "execute_result",
          "data": {
            "text/plain": [
              "   Unnamed: 0   label                                id  \\\n",
              "0           0  benign  c874b967176b9fdb0a1c204ff71d5a61   \n",
              "1           1  benign  2d5b60700f2bbb4450a889d2a9f3e9ba   \n",
              "2           2  benign  d9034137996b19da4f0b4cb957c37b4f   \n",
              "3           3  benign  66178272dee70b26f1400bb5c2aea1ab   \n",
              "4           4  benign  7f0c3101a7212b9300a9e3505452b15f   \n",
              "\n",
              "                                                 url  result  \\\n",
              "0  http://hcwsgzyituo.wx.hc360.com/shop/290574689...       0   \n",
              "1  http://m.hubei.edeng.cn/73/jingmen/ershoumotuo...       0   \n",
              "2     http://m.119you.com/blcthszz/yxgl/764925.shtml       0   \n",
              "3                    http://kr.hujiang.com/zt/zixue/       0   \n",
              "4  http://www.webkf.net/index.php/index/index/cat...       0   \n",
              "\n",
              "                                                text  \n",
              "0  产品信息首页公司介绍最新产品精品推荐产品目录信用档案联系我们慧聪网产品信息详细介绍物流说明选...  \n",
              "1  荆门二手摩托车荆门二手摩托车交易市场荆门易登网荆门登陆发布您有条新消息点击查看首页车辆买卖二...  \n",
              "2  汾MBGooglePlayGameCenterVPNiOSGoogleGoolgePlayG...  \n",
              "3  如何自学韩语怎样自学韩语韩语自学教程沪江首页学习资讯沪江英语沪江日语沪江韩语沪江法语沪江德语...  \n",
              "4  web紴WEBPHPJSPJavascriptAJAXASPNETjQueryJavaCCV...  "
            ],
            "text/html": [
              "\n",
              "  <div id=\"df-f6ba40ce-c363-4bbe-86a2-e2e79a3a96a5\">\n",
              "    <div class=\"colab-df-container\">\n",
              "      <div>\n",
              "<style scoped>\n",
              "    .dataframe tbody tr th:only-of-type {\n",
              "        vertical-align: middle;\n",
              "    }\n",
              "\n",
              "    .dataframe tbody tr th {\n",
              "        vertical-align: top;\n",
              "    }\n",
              "\n",
              "    .dataframe thead th {\n",
              "        text-align: right;\n",
              "    }\n",
              "</style>\n",
              "<table border=\"1\" class=\"dataframe\">\n",
              "  <thead>\n",
              "    <tr style=\"text-align: right;\">\n",
              "      <th></th>\n",
              "      <th>Unnamed: 0</th>\n",
              "      <th>label</th>\n",
              "      <th>id</th>\n",
              "      <th>url</th>\n",
              "      <th>result</th>\n",
              "      <th>text</th>\n",
              "    </tr>\n",
              "  </thead>\n",
              "  <tbody>\n",
              "    <tr>\n",
              "      <th>0</th>\n",
              "      <td>0</td>\n",
              "      <td>benign</td>\n",
              "      <td>c874b967176b9fdb0a1c204ff71d5a61</td>\n",
              "      <td>http://hcwsgzyituo.wx.hc360.com/shop/290574689...</td>\n",
              "      <td>0</td>\n",
              "      <td>产品信息首页公司介绍最新产品精品推荐产品目录信用档案联系我们慧聪网产品信息详细介绍物流说明选...</td>\n",
              "    </tr>\n",
              "    <tr>\n",
              "      <th>1</th>\n",
              "      <td>1</td>\n",
              "      <td>benign</td>\n",
              "      <td>2d5b60700f2bbb4450a889d2a9f3e9ba</td>\n",
              "      <td>http://m.hubei.edeng.cn/73/jingmen/ershoumotuo...</td>\n",
              "      <td>0</td>\n",
              "      <td>荆门二手摩托车荆门二手摩托车交易市场荆门易登网荆门登陆发布您有条新消息点击查看首页车辆买卖二...</td>\n",
              "    </tr>\n",
              "    <tr>\n",
              "      <th>2</th>\n",
              "      <td>2</td>\n",
              "      <td>benign</td>\n",
              "      <td>d9034137996b19da4f0b4cb957c37b4f</td>\n",
              "      <td>http://m.119you.com/blcthszz/yxgl/764925.shtml</td>\n",
              "      <td>0</td>\n",
              "      <td>汾MBGooglePlayGameCenterVPNiOSGoogleGoolgePlayG...</td>\n",
              "    </tr>\n",
              "    <tr>\n",
              "      <th>3</th>\n",
              "      <td>3</td>\n",
              "      <td>benign</td>\n",
              "      <td>66178272dee70b26f1400bb5c2aea1ab</td>\n",
              "      <td>http://kr.hujiang.com/zt/zixue/</td>\n",
              "      <td>0</td>\n",
              "      <td>如何自学韩语怎样自学韩语韩语自学教程沪江首页学习资讯沪江英语沪江日语沪江韩语沪江法语沪江德语...</td>\n",
              "    </tr>\n",
              "    <tr>\n",
              "      <th>4</th>\n",
              "      <td>4</td>\n",
              "      <td>benign</td>\n",
              "      <td>7f0c3101a7212b9300a9e3505452b15f</td>\n",
              "      <td>http://www.webkf.net/index.php/index/index/cat...</td>\n",
              "      <td>0</td>\n",
              "      <td>web紴WEBPHPJSPJavascriptAJAXASPNETjQueryJavaCCV...</td>\n",
              "    </tr>\n",
              "  </tbody>\n",
              "</table>\n",
              "</div>\n",
              "      <button class=\"colab-df-convert\" onclick=\"convertToInteractive('df-f6ba40ce-c363-4bbe-86a2-e2e79a3a96a5')\"\n",
              "              title=\"Convert this dataframe to an interactive table.\"\n",
              "              style=\"display:none;\">\n",
              "        \n",
              "  <svg xmlns=\"http://www.w3.org/2000/svg\" height=\"24px\"viewBox=\"0 0 24 24\"\n",
              "       width=\"24px\">\n",
              "    <path d=\"M0 0h24v24H0V0z\" fill=\"none\"/>\n",
              "    <path d=\"M18.56 5.44l.94 2.06.94-2.06 2.06-.94-2.06-.94-.94-2.06-.94 2.06-2.06.94zm-11 1L8.5 8.5l.94-2.06 2.06-.94-2.06-.94L8.5 2.5l-.94 2.06-2.06.94zm10 10l.94 2.06.94-2.06 2.06-.94-2.06-.94-.94-2.06-.94 2.06-2.06.94z\"/><path d=\"M17.41 7.96l-1.37-1.37c-.4-.4-.92-.59-1.43-.59-.52 0-1.04.2-1.43.59L10.3 9.45l-7.72 7.72c-.78.78-.78 2.05 0 2.83L4 21.41c.39.39.9.59 1.41.59.51 0 1.02-.2 1.41-.59l7.78-7.78 2.81-2.81c.8-.78.8-2.07 0-2.86zM5.41 20L4 18.59l7.72-7.72 1.47 1.35L5.41 20z\"/>\n",
              "  </svg>\n",
              "      </button>\n",
              "      \n",
              "  <style>\n",
              "    .colab-df-container {\n",
              "      display:flex;\n",
              "      flex-wrap:wrap;\n",
              "      gap: 12px;\n",
              "    }\n",
              "\n",
              "    .colab-df-convert {\n",
              "      background-color: #E8F0FE;\n",
              "      border: none;\n",
              "      border-radius: 50%;\n",
              "      cursor: pointer;\n",
              "      display: none;\n",
              "      fill: #1967D2;\n",
              "      height: 32px;\n",
              "      padding: 0 0 0 0;\n",
              "      width: 32px;\n",
              "    }\n",
              "\n",
              "    .colab-df-convert:hover {\n",
              "      background-color: #E2EBFA;\n",
              "      box-shadow: 0px 1px 2px rgba(60, 64, 67, 0.3), 0px 1px 3px 1px rgba(60, 64, 67, 0.15);\n",
              "      fill: #174EA6;\n",
              "    }\n",
              "\n",
              "    [theme=dark] .colab-df-convert {\n",
              "      background-color: #3B4455;\n",
              "      fill: #D2E3FC;\n",
              "    }\n",
              "\n",
              "    [theme=dark] .colab-df-convert:hover {\n",
              "      background-color: #434B5C;\n",
              "      box-shadow: 0px 1px 3px 1px rgba(0, 0, 0, 0.15);\n",
              "      filter: drop-shadow(0px 1px 2px rgba(0, 0, 0, 0.3));\n",
              "      fill: #FFFFFF;\n",
              "    }\n",
              "  </style>\n",
              "\n",
              "      <script>\n",
              "        const buttonEl =\n",
              "          document.querySelector('#df-f6ba40ce-c363-4bbe-86a2-e2e79a3a96a5 button.colab-df-convert');\n",
              "        buttonEl.style.display =\n",
              "          google.colab.kernel.accessAllowed ? 'block' : 'none';\n",
              "\n",
              "        async function convertToInteractive(key) {\n",
              "          const element = document.querySelector('#df-f6ba40ce-c363-4bbe-86a2-e2e79a3a96a5');\n",
              "          const dataTable =\n",
              "            await google.colab.kernel.invokeFunction('convertToInteractive',\n",
              "                                                     [key], {});\n",
              "          if (!dataTable) return;\n",
              "\n",
              "          const docLinkHtml = 'Like what you see? Visit the ' +\n",
              "            '<a target=\"_blank\" href=https://colab.research.google.com/notebooks/data_table.ipynb>data table notebook</a>'\n",
              "            + ' to learn more about interactive tables.';\n",
              "          element.innerHTML = '';\n",
              "          dataTable['output_type'] = 'display_data';\n",
              "          await google.colab.output.renderOutput(dataTable, element);\n",
              "          const docLink = document.createElement('div');\n",
              "          docLink.innerHTML = docLinkHtml;\n",
              "          element.appendChild(docLink);\n",
              "        }\n",
              "      </script>\n",
              "    </div>\n",
              "  </div>\n",
              "  "
            ]
          },
          "metadata": {},
          "execution_count": 5
        }
      ]
    },
    {
      "cell_type": "code",
      "source": [
        "import jieba\n",
        "import re\n",
        "def get_word(text, word_dic, stop_words):\n",
        "  # 将文本切分为单个词\n",
        "  words = jieba.cut(text)\n",
        "  for w in words:\n",
        "    # 构建词表\n",
        "    if w in stop_words:\n",
        "      continue\n",
        "    if w in word_dic:\n",
        "      word_dic[w] += 1\n",
        "    else:\n",
        "      word_dic[w] = 1"
      ],
      "metadata": {
        "id": "HiRDQLtinFCE"
      },
      "execution_count": 12,
      "outputs": []
    },
    {
      "cell_type": "code",
      "source": [
        "def read_stopwords():\n",
        "  stop_words = []\n",
        "  with open(\"dataset/hit_stopwords.txt\", mode=\"r\", encoding=\"utf-8\") as f:\n",
        "    for w in f.read().splitlines():\n",
        "      stop_words.append(w)\n",
        "  return stop_words"
      ],
      "metadata": {
        "id": "5amd7ot8spt-"
      },
      "execution_count": 11,
      "outputs": []
    },
    {
      "cell_type": "code",
      "source": [
        "import os\n",
        "import re\n",
        "import jieba\n",
        "\n",
        "\n",
        "# 生成语料库\n",
        "corpus = []\n",
        "stop_words = read_stopwords()\n",
        "word_dic = {}\n",
        "df['text1'] = df['text'].apply(lambda i : get_word(str(i), word_dic, stop_words))\n",
        "word_list = sorted(word_dic.items(), key=lambda item: item[1], reverse=True)\n",
        "print(type(word_list))\n",
        "# for file in train_files:\n",
        "#     with open(os.path.join(train_dir, file), 'r', encoding='utf-8') as f:\n",
        "#         text = f.read()\n",
        "#         text = re.sub(r'\\s+', '', text)  # 去除空白字符\n",
        "#         words = jieba.cut(text)  # 分词\n",
        "#         corpus.append(' '.join(words))\n",
        "\n",
        "# 保存语料库\n",
        "# with open('corpus.txt', 'w', encoding='utf-8') as f:\n",
        "#     f.write('\\n'.join(corpus))"
      ],
      "metadata": {
        "colab": {
          "base_uri": "https://localhost:8080/"
        },
        "id": "63wNtMDifQzN",
        "outputId": "3bf9ebd6-6174-44d3-e359-beea523d5100"
      },
      "execution_count": 13,
      "outputs": [
        {
          "output_type": "stream",
          "name": "stdout",
          "text": [
            "<class 'list'>\n"
          ]
        }
      ]
    },
    {
      "cell_type": "code",
      "source": [
        "word_list[0:11]"
      ],
      "metadata": {
        "colab": {
          "base_uri": "https://localhost:8080/"
        },
        "id": "scxCkahJuOUD",
        "outputId": "76bc64e2-58a9-4e88-d8cb-777ca6f0daf8"
      },
      "execution_count": 14,
      "outputs": [
        {
          "output_type": "execute_result",
          "data": {
            "text/plain": [
              "[('不', 10598),\n",
              " ('第章', 10565),\n",
              " ('人', 9829),\n",
              " ('年', 9217),\n",
              " ('更', 9154),\n",
              " ('下载', 8469),\n",
              " ('月', 7796),\n",
              " ('都', 7413),\n",
              " ('服务', 7225),\n",
              " ('手机', 7128),\n",
              " ('上', 7096)]"
            ]
          },
          "metadata": {},
          "execution_count": 14
        }
      ]
    },
    {
      "cell_type": "code",
      "source": [
        "word_list[0:11]"
      ],
      "metadata": {
        "colab": {
          "base_uri": "https://localhost:8080/"
        },
        "id": "xeWDfy-ZrAST",
        "outputId": "c8dc48a6-ebe4-4c59-adbb-de03b18420e4"
      },
      "execution_count": 10,
      "outputs": [
        {
          "output_type": "execute_result",
          "data": {
            "text/plain": [
              "[('的', 121934),\n",
              " ('了', 29086),\n",
              " ('是', 20230),\n",
              " ('我', 19831),\n",
              " ('在', 18905),\n",
              " ('和', 15317),\n",
              " ('你', 14527),\n",
              " ('有', 11046),\n",
              " ('不', 10598),\n",
              " ('第章', 10565),\n",
              " ('人', 9829)]"
            ]
          },
          "metadata": {},
          "execution_count": 10
        }
      ]
    }
  ]
}